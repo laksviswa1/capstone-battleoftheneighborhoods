{
 "cells": [
  {
   "cell_type": "markdown",
   "metadata": {},
   "source": [
    "### Introduction and Business Problem"
   ]
  },
  {
   "cell_type": "markdown",
   "metadata": {},
   "source": [
    "##### __Background:__\n",
    "\n",
    "While traveling in the southern states of the US in general, and in the state of Georgia in specific, it is usually not easy to find the right kind of restaurants to one’s need and taste. Especially while traveling through some remote regions in Georgia, it is very handy to know what kind of restaurants one can expect in the neighborhood. Furthermore, there are different towns and cities in Georgia which are popular for authentic restaurants of specific cuisines. It will be useful to learn more about their specialities before traveling in order not to miss out local specialities. This capstone project will center around the state of Georgia in USA, analyzing the various categories of restaurants and food options available for travelers and localities in different towns and cities.\n",
    "\n",
    "##### __Problem statements:__\n",
    "We will attempt to address the following problem statements in this project, all in the geographical region of Georgia, USA\n",
    "1. What categories of restaurants are popular in different parts of the state?\n",
    "2. Are vegan/vegetarian options available in the state? Where are they located?\n",
    "3. Where can one find a cafe or quick bite?\n",
    "4. Are there speciality southern restaurants in the state? Where are they located?\n",
    "5. Which towns do not have dine in restaurants, potentially not traveler friendly to stop for dine-ins?\n",
    "6. Which cuisines are not popular in this southern state?"
   ]
  },
  {
   "cell_type": "markdown",
   "metadata": {},
   "source": [
    "### Data and Methodology\n",
    "##### __Data:__\n",
    "In order to find answers and get insight into the restaurants landscape in Georgia, USA, the first piece of data that we require is a list of all towns and cities in Georgia, USA. This is a public data available either in the Georgia government site or in the Wikipedia page. In the project, we will scape the towns and cities table information available in the Wikipage: https://en.wikipedia.org/wiki/List_of_municipalities_in_Georgia_(U.S._state). The next piece of information we need is to get the geolocation (latitude and longitude) of all the towns and cities we scraped in the first step. In order to get this information, we will use the Geocoder Nominatim OpenStreepMap (OSM) API to get the geographical location of each town/city. Lastly, we will utilize FourSquare crowdsource data in order to get all the restaurant and category details of all the venues of type “food”. We will restrict the number of venues by searching for venues within a radius of 5kms around each town/city.\n",
    "\n",
    "To summarize, we will pull the following data:\n",
    "  \n",
    "1. **List of all towns and cities in Georgia, USA**  \n",
    "   Source:  https://en.wikipedia.org/wiki/List_of_municipalities_in_Georgia_(U.S._state)  \n",
    "   Pull table data from class wikitable sortable  \n",
    "   _Example (Name, Type, County):_  \n",
    "   Alpharetta\tCity\tFulton  \n",
    "   Savannah\tCity\tChatham  \n",
    "     \n",
    "2. **Geolocation (latitude and longitude) of each town and city - Using Geocoder Nominatim OSM API**  \n",
    "   Package: geocoder Nominatim  \n",
    "   Example:   \n",
    "   Name\tlatitude\tlongitude  \n",
    "   0\tAbbeville, GA\t31.992122\t-83.306824  \n",
    "   1\tAcworth, GA\t34.065933\t-84.676880  \n",
    "     \n",
    "3. **Restaurants and food venues - From Foursquare crowdsource data, using ‘Venues’ endpoint**  \n",
    "   Endpoint: Foursquare venue explore endpoint https://api.foursquare.com/v2/venues/explore  \n",
    "   Parameters: Radius = 5kms, Limit venues per call = 100, section = 'Food'  \n",
    "   \n",
    "Combining and blending the data from the 3 data sources stated above, we can get the list of venues and its categorization for each city/town. We will use this as the input to the machine learning model K-means clustering for unsupervised data and  build clusters of similar towns/cities offering similar categories of restaurants. Once clusters are formed, we will analyze and label the clusters based on the venue categories within each cluster. Using the cluster and labels, we will attempt to answer all the problem statements."
   ]
  }
 ],
 "metadata": {
  "kernelspec": {
   "display_name": "Python 3",
   "language": "python",
   "name": "python3"
  },
  "language_info": {
   "codemirror_mode": {
    "name": "ipython",
    "version": 3
   },
   "file_extension": ".py",
   "mimetype": "text/x-python",
   "name": "python",
   "nbconvert_exporter": "python",
   "pygments_lexer": "ipython3",
   "version": "3.6.8"
  }
 },
 "nbformat": 4,
 "nbformat_minor": 2
}

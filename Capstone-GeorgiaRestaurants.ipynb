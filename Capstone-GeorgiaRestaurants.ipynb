{
 "cells": [
  {
   "cell_type": "markdown",
   "metadata": {},
   "source": [
    "### Introduction and Business Problem"
   ]
  },
  {
   "cell_type": "markdown",
   "metadata": {},
   "source": [
    "##### __Background:__\n",
    "\n",
    "While traveling in the southern states of the US in general, and in the state of Georgia in specific, it is usually not easy to find the right kind of restaurants to one’s need and taste. Especially while traveling through some remote regions in Georgia, it is very handy to know what kind of restaurants one can expect in the neighborhood. Furthermore, there are different towns and cities in Georgia which are popular for authentic restaurants of specific cuisines. It will be useful to learn more about their specialities before traveling in order not to miss out local specialities. This capstone project will center around the state of Georgia in USA, analyzing the various categories of restaurants and food options available for travelers and localities in different towns and cities.\n",
    "\n",
    "##### __Problem statements:__\n",
    "We will attempt to address the following problem statements in this project, all in the geographical region of Georgia, USA\n",
    "1. What categories of restaurants are popular in different parts of the state?\n",
    "2. Are vegan/vegetarian options available in the state? Where are they located?\n",
    "3. Where can one find a cafe or quick bite?\n",
    "4. Are there speciality southern restaurants in the state? Where are they located?\n",
    "5. Which towns do not have dine in restaurants, potentially not traveler friendly to stop for dine-ins?"
   ]
  },
  {
   "cell_type": "markdown",
   "metadata": {},
   "source": [
    "### Data Sources\n",
    "\n",
    "In order to find answers and get insight into the restaurants landscape in Georgia, USA, the first piece of data that we require is a list of all towns and cities in Georgia, USA. This is a public data available either in the Georgia government site or in the Wikipedia page. In the project, we will scape the towns and cities table information available in the Wikipage: https://en.wikipedia.org/wiki/List_of_municipalities_in_Georgia_(U.S._state). The next piece of information we need is to get the geolocation (latitude and longitude) of all the towns and cities we scraped in the first step. In order to get this information, we will use the Geocoder Nominatim OpenStreepMap (OSM) API to get the geographical location of each town/city. Lastly, we will utilize FourSquare crowdsource data in order to get all the restaurant and category details of all the venues of type “food”. We will restrict the number of venues by searching for venues within a radius of 5kms around each town/city.\n",
    "\n",
    "To summarize, we will pull the following data:\n",
    "  \n",
    "1. **List of all towns and cities in Georgia, USA**  \n",
    "   Source:  https://en.wikipedia.org/wiki/List_of_municipalities_in_Georgia_(U.S._state)  \n",
    "   Pull table data from class wikitable sortable  \n",
    "   _Example (Name, Type, County):_  \n",
    "   Alpharetta\tCity\tFulton  \n",
    "   Savannah\tCity\tChatham  \n",
    "     \n",
    "2. **Geolocation (latitude and longitude) of each town and city - Using Geocoder Nominatim OSM API**  \n",
    "   Package: geocoder Nominatim  \n",
    "   Example:   \n",
    "   Name\tlatitude\tlongitude  \n",
    "   0\tAbbeville, GA\t31.992122\t-83.306824  \n",
    "   1\tAcworth, GA\t34.065933\t-84.676880  \n",
    "     \n",
    "3. **Restaurants and food venues - From Foursquare crowdsource data, using ‘Venues’ endpoint**  \n",
    "   Endpoint: Foursquare venue explore endpoint https://api.foursquare.com/v2/venues/explore  \n",
    "   Parameters: Radius = 5kms, Limit venues per call = 100, section = 'Food'  \n",
    "   Example:  \n",
    "      Neighborhood\tNeighborhood Latitude\tNeighborhood Longitude\tVenue\tVenue Latitude\tVenue Longitude\tVenue Category  \n",
    "      Abbeville, GA\t31.992122\t-83.306824\tOphelias\t31.992405\t-83.306903\tDiner  \n",
    "      Abbeville, GA\t31.992122\t-83.306824\tCountry Kitchen\t31.992640\t-83.307734\tFood  \n",
    "      Abbeville, GA\t31.992122\t-83.306824\tMr B-b-q\t31.993763\t-83.295976\tFood  \n",
    "      Acworth, GA\t34.065933\t-84.676880\tHenry's Louisiana Grill\t34.066011\t-84.677728\tCajun / Creole Restaurant  \n",
    "      Acworth, GA\t34.065933\t-84.676880\tFusco's via Roma\t34.065781\t-84.677163\tItalian Restaurant  \n",
    "\n",
    "Combining and blending the data from the 3 data sources stated above, we can get the list of venues and its categorization for each city/town. We will use this as the input to the machine learning model K-means clustering for unsupervised data and  build clusters of similar towns/cities offering similar categories of restaurants. Once clusters are formed, we will analyze and label the clusters based on the venue categories within each cluster. Using the cluster and labels, we will attempt to answer all the problem statements."
   ]
  },
  {
   "cell_type": "markdown",
   "metadata": {},
   "source": [
    "### Data Analysis"
   ]
  },
  {
   "cell_type": "markdown",
   "metadata": {},
   "source": [
    "##### Data Analysis - Exploratory, descriptive, and statistical\n",
    "\n",
    "Using BeautifulSoup package, the wikitable data having all the municipalities (cities and towns) have been loaded into Pandas dataframe. An initial description of this dataframe shows:  \n",
    "\n",
    "Type | Total\n",
    "--- | ---\n",
    "City|409\n",
    "Consolidated city|2\n",
    "Town|122\n",
    "Unified government|6\n",
    "**Grand total**|**539**\n"
   ]
  },
  {
   "cell_type": "markdown",
   "metadata": {},
   "source": [
    "Using Geocoder Nominatim package, loop through each town/city in the list, and fetch the geolocation (latitude and longitude).\n",
    "\n",
    "Name | latitude | longitude\n",
    "--- | --- | ---\n",
    "Abbeville, GA|31.992122|-83.306824\n",
    "Acworth, GA|34.065933|-84.676880\n",
    "Adairsville, GA|34.368702|-84.934109\n",
    "Adel, GA|31.137136|-83.423494\n",
    "Adrian, GA|32.530722|-82.589299"
   ]
  },
  {
   "cell_type": "markdown",
   "metadata": {},
   "source": [
    "Using folium, visualize all the towns/cities in the state of Georgia\n",
    "\n",
    "![GA-CitiesPlotted](GA-CitiesPlotted.png \"Georgia Towns and Cities\")\n"
   ]
  },
  {
   "cell_type": "markdown",
   "metadata": {},
   "source": [
    "Using FourSquare (venue explore API), all the venues of Food category in the vicinity of each of these towns/cities are obtained.  \n",
    "_Parameters used:_  \n",
    "+ Maximum venues per town/city = 100  \n",
    "+ Radius from lat/long = 5kms  \n",
    "+ Section (category of venue) = Food  \n",
    "\n",
    "\n",
    "![GA-Venues-Head10](GA-Venues-head10.png \"Georgia Venues\")\n",
    "\n",
    "**There are a total of 13118 venues, and the total distinct venue categories is 102**"
   ]
  },
  {
   "cell_type": "markdown",
   "metadata": {},
   "source": [
    "Since the FourSquare data is crowd-sourced, it is prone to have errors and mis-classifications. It is important to perform data cleansing including addressing missing values, incorrect category classification, and delete incorrect entries.  \n",
    "A few examples include:\n",
    "+ Peruvian, Colombian, Argentinian, Brazilian, Latin American, and Venezuelan - need to be reclassified into South American Restaurants\n",
    "+ South Indian, north Indian, Chaat Place - need to be reclassified into Indian Restaurants\n",
    "+ Mediterranean, Greek, Turkish, and Middle Eastern - need to be classified together\n",
    "\n",
    "After all the cleansing is applied, we have a resulting distinct venue categories of **78**\n",
    "\n",
    "#### Below is the top 10 venue categories\n",
    "\n",
    "![Top10-VenueCategories](Top10-VenueCategories.png \"Georgia Venue Categories - Top10\")\n"
   ]
  },
  {
   "cell_type": "markdown",
   "metadata": {},
   "source": [
    "### Feature set"
   ]
  },
  {
   "cell_type": "markdown",
   "metadata": {},
   "source": [
    "The key to our feature set is applying one-hot encoding technique. We will use the mean of the frequency of occurrence of each category. This will help us arrive at a numerical score for each of the 79 categories, for each town/city.\n",
    "\n",
    "Since the distribution of the venue category beyond the top 10 categories for each town/city will have very less correlation to what kind of restaurants are offered in the specific town/city, we will generate the top 10 most common venue category and choose these 10 fields as our feature set.\n",
    "\n",
    "![FeatureSet](FeatureSet.png \"Feature Set - Most common Venue Categories -\")\n",
    "\n",
    "At this time, we found an additional 68 town/cities for which Foursquare does not have any reported food venues. We remove these 68 towns/cities from our clustering model."
   ]
  },
  {
   "cell_type": "markdown",
   "metadata": {},
   "source": [
    "### Methodology"
   ]
  },
  {
   "cell_type": "markdown",
   "metadata": {},
   "source": [
    "The dataset for these set of problem statements do not have a predefined label or the primary catogories that a given town/city belongs to. Hence, this dataset is classified as **unsupervised** data. The model we select to solve this particular problem is **K-means clustering for unsupervised dataset**  \n",
    "We use the K-means clustering algorithm, and label all the towns/cities into **10** clusters.\n",
    "\n",
    "Here are sample data from some of the clusters generated by our model:\n",
    "\n",
    "**Cluster 1**\n",
    "![Cluster1](Cluster1.png \"Cluster 1\")\n",
    "**Cluster 5**\n",
    "![Cluster5](Cluster5.png \"Cluster 5\")\n",
    "**Cluster 6**\n",
    "![Cluster6](Cluster6.png \"Cluster 6\")\n",
    "**Cluster 8**\n",
    "![Cluster8](Cluster8.png \"Cluster 8\")\n",
    "**Cluster 10**\n",
    "![Cluster10](Cluster10.png \"Cluster 10\")\n",
    "\n"
   ]
  },
  {
   "cell_type": "markdown",
   "metadata": {},
   "source": [
    "### Results"
   ]
  },
  {
   "cell_type": "markdown",
   "metadata": {},
   "source": [
    "\n",
    "Once we build the clusters, we visualize the clusters through   \n",
    "1) **A scatter plot by converting all features and target into 2-dimensional form**\n",
    "\n",
    "![Cluster2D](Cluster2D.png \"Cluster Map in 2D form\")\n",
    "\n",
    "2) **Folium to visualize the clusters and its distribution on the map**\n",
    "\n",
    "![ClusterMap](ClusterMap.png \"Cluster Map\")\n"
   ]
  },
  {
   "cell_type": "markdown",
   "metadata": {},
   "source": [
    "Reviewing the results from each of the clusters, below table summarizes the categories and trends of each cluster of towns/cities.\n",
    "\n",
    "![Cluster info](Clusterinfo.png \"Cluster Info\")\n",
    "\n"
   ]
  },
  {
   "cell_type": "markdown",
   "metadata": {},
   "source": [
    "### Discussion and Conclusion"
   ]
  },
  {
   "cell_type": "markdown",
   "metadata": {},
   "source": [
    "This section elaborates the answers and findings for all the problem statements defined earlier.\n",
    "\n",
    "1. **What categories of restaurants are popular in different parts of the state?**  \n",
    "In the 10 clusters we generated, we were able to find unique restaurant categories. The most popular restaurant categories include american, fast food and Pizza place. They are distributed in clusters 1,2,3, and 9.\n",
    "\n",
    "![Top10-VenueCategories](Top10-VenueCategories.png \"Georgia Venue Categories - Top10\")\n",
    "\n",
    "\n",
    "2. **Are vegan/vegetarian options available in the state? Where are they located?**  \n",
    "There are a total of only 31 vegetarian/vegan restaurants checked in by FourSquare users in the entire state of Georgia, out of 13118 venues. This shows that Georgia is not a veg/vegan friendly state. Moreover, the few options are centered around a few cities including Atlanta, Macon, Athens, Savanah, and Columbus.\n",
    "\n",
    "![Veg/Vegan](VegVegan.png \"Vegetarian/Vegan Restaurants\")\n",
    "\n",
    "\n",
    "3. **Where can one find a cafe or quick bite?**  \n",
    "Cafe and Sandwich/Quick bite belongs to cluster 7 and are distributed thinly around the entire state\n",
    "\n",
    "![Cafe](Cafe.png \"Cafe and Quick Bites\")\n",
    "\n",
    "4. **Are there speciality southern restaurants in the state? Where are they located?**\n",
    "There are 231 restaurants classified as Southern. From the result and distribution, it is evident that Georgia is a typical southern state with many american and southern restaurants well distributed across the entire state.\n",
    "\n",
    "![Southern](Southern.png \"Southern Restaurants\")\n",
    "\n",
    "5. **Which towns do not have dine in restaurants, potentially not traveler friendly to stop for dine-ins?**\n",
    "There are 68 towns/cities from where FourSquare users not not checked in and reported any restaurants. Perhaps, these are cities to avoid dine-in plans.\n",
    "\n",
    "![No Restaurants](None.png \"No Restaurants\")"
   ]
  }
 ],
 "metadata": {
  "kernelspec": {
   "display_name": "Python 3",
   "language": "python",
   "name": "python3"
  },
  "language_info": {
   "codemirror_mode": {
    "name": "ipython",
    "version": 3
   },
   "file_extension": ".py",
   "mimetype": "text/x-python",
   "name": "python",
   "nbconvert_exporter": "python",
   "pygments_lexer": "ipython3",
   "version": "3.6.8"
  }
 },
 "nbformat": 4,
 "nbformat_minor": 2
}
